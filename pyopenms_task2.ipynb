{
 "cells": [
  {
   "cell_type": "code",
   "execution_count": 3,
   "id": "2af37926",
   "metadata": {},
   "outputs": [
    {
     "name": "stdout",
     "output_type": "stream",
     "text": [
      "the residue mass = 537.2984921016999\n",
      "thw actual mass  591.3301872930999\n"
     ]
    }
   ],
   "source": [
    "from pyopenms import *\n",
    "symbol1 = AASequence.fromString(\"LKMF\")\n",
    "sum1 = symbol1.getMonoWeight()\n",
    "print (\"the residue mass =\",sum1)\n",
    "\n",
    "symbol2 = AASequence.fromString(\"L\")\n",
    "sum2 = symbol2.getMonoWeight()\n",
    "symbol3 = AASequence.fromString(\"K\")\n",
    "sum3 = symbol3.getMonoWeight()\n",
    "symbol4 = AASequence.fromString(\"M\")\n",
    "sum4 = symbol4.getMonoWeight()\n",
    "\n",
    "symbol5 = AASequence.fromString(\"F\")\n",
    "sum5 = symbol5.getMonoWeight()\n",
    "total=sum2+sum3+sum4+sum5\n",
    "\n",
    "print(\"thw actual mass \",total)"
   ]
  },
  {
   "cell_type": "code",
   "execution_count": null,
   "id": "23a24928",
   "metadata": {},
   "outputs": [],
   "source": []
  }
 ],
 "metadata": {
  "kernelspec": {
   "display_name": "Python 3 (ipykernel)",
   "language": "python",
   "name": "python3"
  },
  "language_info": {
   "codemirror_mode": {
    "name": "ipython",
    "version": 3
   },
   "file_extension": ".py",
   "mimetype": "text/x-python",
   "name": "python",
   "nbconvert_exporter": "python",
   "pygments_lexer": "ipython3",
   "version": "3.9.12"
  }
 },
 "nbformat": 4,
 "nbformat_minor": 5
}
